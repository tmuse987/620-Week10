{
 "cells": [
  {
   "cell_type": "markdown",
   "metadata": {},
   "source": [
    "<H2>Overview--Spam Classification</H2>\n",
    "\n",
    "This notebook reads in a CSV file containing about 4600 lines of data describing email with 57 characteristics (certain word frequencies, number of exclamation points, number of consecutive capital letters, etc.), and one last column indicating whether the email was identified as spam or not (1 for spam, 0 for non-spam).  The notebook then attempts various classification methods to try to learn a method that will correctly identify the spam email.  Note, in this classification, it is more critical to avoid mis-classifying a real email as spam (false positive) than it is to let a spam email pass through.\n",
    "\n",
    "\n",
    "We start by reading in header data from spambase.headers.txt and spam data from spambase.data.txt (the notebook assumes these files are in the folder that the notebook program was started from).\n"
   ]
  },
  {
   "cell_type": "code",
   "execution_count": 137,
   "metadata": {},
   "outputs": [],
   "source": [
    "import warnings\n",
    "warnings.filterwarnings('ignore')\n",
    "import pandas as pd\n",
    "headers = pd.read_csv('spambase.headers.txt').columns\n",
    "df = pd.read_csv('spambase.data.txt', names = headers)"
   ]
  },
  {
   "cell_type": "markdown",
   "metadata": {},
   "source": [
    "<H2>Data Clean Up</H2>\n",
    "\n",
    "We will check if NAN's are uploaded file, as well see what the Max and Min values are to see if we have outliers or potential bad data in columns.  \n",
    "\n",
    "From the results, we see that no NAN clean up is needed.  And while most numerical results are sensible, we do see three columns with distinctly high counts, and they are all related to the number of consecutive capitals.  Lets look at the capital_run_length_total column which contains the number of uninterrupted capitals in a row. This will be investigated in the next section."
   ]
  },
  {
   "cell_type": "code",
   "execution_count": 138,
   "metadata": {},
   "outputs": [
    {
     "name": "stdout",
     "output_type": "stream",
     "text": [
      "False\n",
      "word_freq_make                    4.540\n",
      "word_freq_address                14.280\n",
      "word_freq_all                     5.100\n",
      "word_freq_3d                     42.810\n",
      "word_freq_our                    10.000\n",
      "word_freq_over                    5.880\n",
      "word_freq_remove                  7.270\n",
      "word_freq_internet               11.110\n",
      "word_freq_order                   5.260\n",
      "word_freq_mail                   18.180\n",
      "word_freq_receive                 2.610\n",
      "word_freq_will                    9.670\n",
      "word_freq_people                  5.550\n",
      "word_freq_report                 10.000\n",
      "word_freq_addresses               4.410\n",
      "word_freq_free                   20.000\n",
      "word_freq_business                7.140\n",
      "word_freq_email                   9.090\n",
      "word_freq_you                    18.750\n",
      "word_freq_credit                 18.180\n",
      "word_freq_your                   11.110\n",
      "word_freq_font                   17.100\n",
      "word_freq_000                     5.450\n",
      "word_freq_money                  12.500\n",
      "word_freq_hp                     20.830\n",
      "word_freq_hpl                    16.660\n",
      "word_freq_george                 33.330\n",
      "word_freq_650                     9.090\n",
      "word_freq_lab                    14.280\n",
      "word_freq_labs                    5.880\n",
      "word_freq_telnet                 12.500\n",
      "word_freq_857                     4.760\n",
      "word_freq_data                   18.180\n",
      "word_freq_415                     4.760\n",
      "word_freq_85                     20.000\n",
      "word_freq_technology              7.690\n",
      "word_freq_1999                    6.890\n",
      "word_freq_parts                   8.330\n",
      "word_freq_pm                     11.110\n",
      "word_freq_direct                  4.760\n",
      "word_freq_cs                      7.140\n",
      "word_freq_meeting                14.280\n",
      "word_freq_original                3.570\n",
      "word_freq_project                20.000\n",
      "word_freq_re                     21.420\n",
      "word_freq_edu                    22.050\n",
      "word_freq_table                   2.170\n",
      "word_freq_conference             10.000\n",
      "char_freq_;                       4.385\n",
      "char_freq_(                       9.752\n",
      "char_freq_[                       4.081\n",
      "char_freq_!                      32.478\n",
      "char_freq_$                       6.003\n",
      "char_freq_#                      19.829\n",
      "capital_run_length_average     1102.500\n",
      "capital_run_length_longest     9989.000\n",
      "capital_run_length_total      15841.000\n",
      "is_spam                           1.000\n",
      "dtype: float64\n",
      "word_freq_make                0.0\n",
      "word_freq_address             0.0\n",
      "word_freq_all                 0.0\n",
      "word_freq_3d                  0.0\n",
      "word_freq_our                 0.0\n",
      "word_freq_over                0.0\n",
      "word_freq_remove              0.0\n",
      "word_freq_internet            0.0\n",
      "word_freq_order               0.0\n",
      "word_freq_mail                0.0\n",
      "word_freq_receive             0.0\n",
      "word_freq_will                0.0\n",
      "word_freq_people              0.0\n",
      "word_freq_report              0.0\n",
      "word_freq_addresses           0.0\n",
      "word_freq_free                0.0\n",
      "word_freq_business            0.0\n",
      "word_freq_email               0.0\n",
      "word_freq_you                 0.0\n",
      "word_freq_credit              0.0\n",
      "word_freq_your                0.0\n",
      "word_freq_font                0.0\n",
      "word_freq_000                 0.0\n",
      "word_freq_money               0.0\n",
      "word_freq_hp                  0.0\n",
      "word_freq_hpl                 0.0\n",
      "word_freq_george              0.0\n",
      "word_freq_650                 0.0\n",
      "word_freq_lab                 0.0\n",
      "word_freq_labs                0.0\n",
      "word_freq_telnet              0.0\n",
      "word_freq_857                 0.0\n",
      "word_freq_data                0.0\n",
      "word_freq_415                 0.0\n",
      "word_freq_85                  0.0\n",
      "word_freq_technology          0.0\n",
      "word_freq_1999                0.0\n",
      "word_freq_parts               0.0\n",
      "word_freq_pm                  0.0\n",
      "word_freq_direct              0.0\n",
      "word_freq_cs                  0.0\n",
      "word_freq_meeting             0.0\n",
      "word_freq_original            0.0\n",
      "word_freq_project             0.0\n",
      "word_freq_re                  0.0\n",
      "word_freq_edu                 0.0\n",
      "word_freq_table               0.0\n",
      "word_freq_conference          0.0\n",
      "char_freq_;                   0.0\n",
      "char_freq_(                   0.0\n",
      "char_freq_[                   0.0\n",
      "char_freq_!                   0.0\n",
      "char_freq_$                   0.0\n",
      "char_freq_#                   0.0\n",
      "capital_run_length_average    1.0\n",
      "capital_run_length_longest    1.0\n",
      "capital_run_length_total      1.0\n",
      "is_spam                       0.0\n",
      "dtype: float64\n"
     ]
    }
   ],
   "source": [
    "print df.isnull().values.any()\n",
    "print df.max()\n",
    "print df.min()"
   ]
  },
  {
   "cell_type": "markdown",
   "metadata": {},
   "source": [
    "<H2>Plot of Consecutive Capitals</H2>\n",
    "\n",
    "We plot a histogram of the consecutive capitals. "
   ]
  },
  {
   "cell_type": "code",
   "execution_count": 139,
   "metadata": {},
   "outputs": [
    {
     "data": {
      "image/png": "[encoded data removed]",
      "text/plain": [
       "<Figure size 432x288 with 1 Axes>"
      ]
     },
     "metadata": {
      "needs_background": "light"
     },
     "output_type": "display_data"
    }
   ],
   "source": [
    "%matplotlib inline\n",
    "import matplotlib.pyplot as plt\n",
    "df['capital_run_length_total'].hist(bins = 50)\n",
    "plt.show()"
   ]
  },
  {
   "cell_type": "markdown",
   "metadata": {},
   "source": [
    "<H2>Examination of Consecutive Capitals</H2>\n",
    "From that plot we see that there are almost no rows where the number of uninterrupted capitals is greater than 4000.  If we filter by that, we see that are only 8 rows with capitals greater than 4000, and only 5 with greater than 9000k.  We may want to look at filtering such rows later when we create prediction models against the training set as these may distort the model."
   ]
  },
  {
   "cell_type": "code",
   "execution_count": 140,
   "metadata": {},
   "outputs": [
    {
     "data": {
      "text/plain": [
       "675      9088\n",
       "679      9090\n",
       "904      9163\n",
       "1121     4128\n",
       "1488    15841\n",
       "1753    10062\n",
       "1813     5902\n",
       "3185     5395\n",
       "Name: capital_run_length_total, dtype: int64"
      ]
     },
     "execution_count": 140,
     "metadata": {},
     "output_type": "execute_result"
    }
   ],
   "source": [
    "df.capital_run_length_total[df.capital_run_length_total>4000]"
   ]
  },
  {
   "cell_type": "markdown",
   "metadata": {},
   "source": [
    "<H2>Histogram of All Predictors</H2>\n",
    "\n",
    "All fields are numeric, lets look at historgrams of them to get an idea of the data we have imported, and which fields perhaps would be the most useful to use later in prediction models.  \n",
    "\n",
    "One thing obvious, is they are all right tailed, because everything starts at zero and that is the most common occurence for any of the plots...obviously for each attribute, not having that attribute is the most common value.\n",
    "\n",
    "The other obvious items is values are on quite different scales, so a future step will need to normalize or scale those columns so we are dealing with the same ranges for all columns."
   ]
  },
  {
   "cell_type": "code",
   "execution_count": 141,
   "metadata": {
    "scrolled": true
   },
   "outputs": [
    {
     "data": {
      "image/png": "[encoded data removed]",
      "text/plain": [
       "<Figure size 1440x1440 with 64 Axes>"
      ]
     },
     "metadata": {
      "needs_background": "light"
     },
     "output_type": "display_data"
    }
   ],
   "source": [
    "df.hist(bins = 50, figsize = (20,20))\n",
    "plt.show()"
   ]
  },
  {
   "cell_type": "markdown",
   "metadata": {},
   "source": [
    "<H2>Split up Data</H2>\n",
    "\n",
    "Split up data into training dev_test and test datasets.  Set random state to 42 (of course) so tests are repeatable."
   ]
  },
  {
   "cell_type": "code",
   "execution_count": 142,
   "metadata": {},
   "outputs": [],
   "source": [
    "from sklearn.model_selection import train_test_split\n",
    "from sklearn.utils import shuffle\n",
    "df = shuffle(df, random_state = 42)\n",
    "dfTrain, dfTest = train_test_split(df, test_size = .20, random_state=42)\n",
    "dfDevtest, dfTest = train_test_split(dfTest, test_size = .50, random_state=42)"
   ]
  },
  {
   "cell_type": "markdown",
   "metadata": {},
   "source": [
    "<H2>Correlation</H2>\n",
    "\n",
    "Examine correlation between various columns and the is_spam column, to see which columns seem to relate most (positively or negatively) to whether an email is spam.\n",
    "\n",
    "From this we see that there a number of fields that correlate less than 10%  (either positive or negative).  If we trained this on a large enough dataset, if might make sense to scrap some of those columns to speed the training.  As it turned out with our analysis here the dataset was small enough that computational efficiency was not a concern."
   ]
  },
  {
   "cell_type": "code",
   "execution_count": 143,
   "metadata": {},
   "outputs": [
    {
     "data": {
      "text/plain": [
       "word_freq_hp                 -0.250245\n",
       "word_freq_hpl                -0.219168\n",
       "word_freq_1999               -0.186568\n",
       "word_freq_george             -0.182033\n",
       "word_freq_labs               -0.161309\n",
       "word_freq_edu                -0.145819\n",
       "word_freq_650                -0.143788\n",
       "word_freq_re                 -0.137717\n",
       "word_freq_meeting            -0.137525\n",
       "word_freq_85                 -0.135757\n",
       "word_freq_technology         -0.132679\n",
       "word_freq_original           -0.129761\n",
       "word_freq_lab                -0.125540\n",
       "word_freq_pm                 -0.121814\n",
       "word_freq_data               -0.118778\n",
       "word_freq_telnet             -0.115598\n",
       "word_freq_857                -0.106829\n",
       "word_freq_415                -0.105762\n",
       "word_freq_project            -0.094904\n",
       "word_freq_cs                 -0.093364\n",
       "word_freq_conference         -0.081332\n",
       "char_freq_(                  -0.076364\n",
       "char_freq_[                  -0.070432\n",
       "char_freq_;                  -0.061230\n",
       "word_freq_direct             -0.057799\n",
       "word_freq_table              -0.043735\n",
       "word_freq_address            -0.037343\n",
       "word_freq_parts              -0.031496\n",
       "word_freq_will                0.011566\n",
       "word_freq_report              0.059337\n",
       "word_freq_3d                  0.062893\n",
       "char_freq_#                   0.068731\n",
       "word_freq_font                0.087184\n",
       "capital_run_length_average    0.114148\n",
       "word_freq_make                0.127334\n",
       "word_freq_mail                0.130414\n",
       "word_freq_people              0.135217\n",
       "word_freq_credit              0.190877\n",
       "word_freq_addresses           0.191271\n",
       "word_freq_all                 0.198519\n",
       "word_freq_email               0.203804\n",
       "capital_run_length_longest    0.204857\n",
       "char_freq_!                   0.214806\n",
       "word_freq_internet            0.215399\n",
       "word_freq_over                0.228458\n",
       "word_freq_order               0.229026\n",
       "word_freq_receive             0.230737\n",
       "word_freq_money               0.239107\n",
       "capital_run_length_total      0.239872\n",
       "word_freq_our                 0.244992\n",
       "word_freq_business            0.252237\n",
       "word_freq_free                0.263837\n",
       "word_freq_you                 0.276647\n",
       "char_freq_$                   0.309853\n",
       "word_freq_remove              0.317075\n",
       "word_freq_000                 0.332508\n",
       "word_freq_your                0.388750\n",
       "is_spam                       1.000000\n",
       "Name: is_spam, dtype: float64"
      ]
     },
     "execution_count": 143,
     "metadata": {},
     "output_type": "execute_result"
    }
   ],
   "source": [
    "correlation = dfTrain.corr()\n",
    "correlation['is_spam'].sort_values()"
   ]
  },
  {
   "cell_type": "markdown",
   "metadata": {},
   "source": [
    "<H2>Scaling</H2>\n",
    "\n",
    "We create a function to scale all the data to unit values, as many of the various classification techniques we try, do not work well otherwise."
   ]
  },
  {
   "cell_type": "code",
   "execution_count": 144,
   "metadata": {
    "scrolled": true
   },
   "outputs": [],
   "source": [
    "from sklearn.preprocessing import StandardScaler\n",
    "def getScaledData(df):\n",
    "    isSpam = df.is_spam\n",
    "    df = df.drop('is_spam', axis = 1)  #remove spam column before transforming, as we don't scale this categorical column\n",
    "    scaler = StandardScaler()\n",
    "    columns = df.columns\n",
    "    df = scaler.fit_transform(df)\n",
    "    df = pd.DataFrame(df, columns=columns)\n",
    "    df['is_spam'] = isSpam.values\n",
    "    return df\n",
    "dfTrain = getScaledData(dfTrain)"
   ]
  },
  {
   "cell_type": "markdown",
   "metadata": {},
   "source": [
    "<H2>First Training, Logistic Regression</H2>\n",
    "\n",
    "Here We train a logistic regression model."
   ]
  },
  {
   "cell_type": "code",
   "execution_count": 145,
   "metadata": {
    "scrolled": true
   },
   "outputs": [
    {
     "data": {
      "text/plain": [
       "LogisticRegression(C=1.0, class_weight=None, dual=False, fit_intercept=True,\n",
       "          intercept_scaling=1, max_iter=100, multi_class='ovr', n_jobs=1,\n",
       "          penalty='l2', random_state=None, solver='sag', tol=0.0001,\n",
       "          verbose=0, warm_start=False)"
      ]
     },
     "execution_count": 145,
     "metadata": {},
     "output_type": "execute_result"
    }
   ],
   "source": [
    "from sklearn.linear_model import LogisticRegression\n",
    "lr = LogisticRegression(solver='sag')\n",
    "lr.fit(dfTrain.drop('is_spam', axis=1), dfTrain.is_spam)\n"
   ]
  },
  {
   "cell_type": "markdown",
   "metadata": {},
   "source": [
    "<H2>Logistic Regression Results</H2>\n",
    "\n",
    "As we look at our results they are not bad from a standpoint of accuracy and filtering out spam.  We achieve over 93% accuracy on our test set, and only 10% of spam is passed through as good email.  But we are mis-classifying about 4% of good email as spam.  This is problematic as this means useful email would be missed by the receiver (unless they went to trouble of looking in spam folder)."
   ]
  },
  {
   "cell_type": "code",
   "execution_count": 146,
   "metadata": {
    "scrolled": true
   },
   "outputs": [
    {
     "name": "stdout",
     "output_type": "stream",
     "text": [
      "Accuracy of Model: 0.934924078091\n",
      "The number of false positives was: 11\n",
      "The percentage of false positives was: 0.0404411764706\n",
      "The number of false negatives was: 19\n",
      "The percentage of false negatives was: 0.100529100529\n"
     ]
    }
   ],
   "source": [
    "def printResults(df, predictions):     \n",
    "    print 'Accuracy of Model: ' + str(len(df[df['is_spam'] == predictions])/float(len(df)))\n",
    "    numFalsePositive = len(df[(df['is_spam'] == 0) & (df['is_spam'] != predictions)])\n",
    "    print 'The number of false positives was: ' + str(numFalsePositive)\n",
    "    print 'The percentage of false positives was: ' + str(numFalsePositive/float(len(df[df['is_spam']==0])))\n",
    "\n",
    "    numFalseNegative = len(df[(df['is_spam'] == 1) & (df['is_spam'] != predictions)])\n",
    "    print 'The number of false negatives was: ' + str(numFalseNegative)\n",
    "    print 'The percentage of false negatives was: ' + str(numFalseNegative/float(len(df[df['is_spam']==1])))\n",
    "\n",
    "import numpy as np\n",
    "np.set_printoptions(formatter={'float_kind':'{:f}'.format})\n",
    "dfTest = getScaledData(dfTest)\n",
    "spam_predict = lr.predict(dfTest.drop('is_spam', axis = 1))\n",
    "\n",
    "printResults(dfTest, spam_predict)"
   ]
  },
  {
   "cell_type": "markdown",
   "metadata": {},
   "source": [
    "<H2>Logistic Refinement?</H2>\n",
    "\n",
    "Since we can return results as probabilities that an email is spam, rather than stating outright that the email is or is not spam, we can easily change the filter by stating an email is spam at probablities higher than 50%.  We see if we increase the threshold to 75% spam we can reduce the number of false positives to 6 or about 2%, a clear improvement.  But by doing so we also  increase the number of false negatives by a factor of over 2 to almost 22%.  \n",
    "\n",
    "The false postives isn't too bad, so perhaps this could be considered acceptable since we still eliminate the majority of spam.  But we are not likely to make things better using this method.  IF we look at the probabilities for false positives, we see that a number of them have a prediction of over 99% probability of being spam and the rest are over 90%.  Meaning to truly make sure we don't have any false positives by raising the threshold, we'd essentially end up letting all spam through and the spam filter would be useless."
   ]
  },
  {
   "cell_type": "code",
   "execution_count": 147,
   "metadata": {},
   "outputs": [
    {
     "name": "stdout",
     "output_type": "stream",
     "text": [
      "Accuracy of Model: 0.898047722343\n",
      "The number of false positives was: 6\n",
      "The percentage of false positives was: 0.0220588235294\n",
      "The number of false negatives was: 41\n",
      "The percentage of false negatives was: 0.216931216931\n",
      "The predicted probablity of the remaining false positives was: \r\n",
      " [0.997703 0.978260 0.900527 0.914584 0.987742 0.999957]\n"
     ]
    }
   ],
   "source": [
    "probs = lr.predict_proba(dfTest.drop('is_spam', axis = 1))\n",
    "spam_predict = probs[:,1] >0.75\n",
    "\n",
    "printResults(dfTest, spam_predict)\n",
    "print 'The predicted probablity of the remaining false positives was: \\r\\n ' + \\\n",
    "        str(probs[dfTest[(dfTest['is_spam'] == 0) & (dfTest['is_spam'] != spam_predict)].index.values][:,1])"
   ]
  },
  {
   "cell_type": "markdown",
   "metadata": {},
   "source": [
    "<H2>Try SGD</H2>\n",
    "\n",
    "Below we try a Stochastic Gradient Descent Classifier.  It achieves accuracy of over 93% overall, but false postive (where emails were identified as spam when they were good (non-spam) emails were at 4.4% which is worse than the logistic regression  So we are not at a good model yet."
   ]
  },
  {
   "cell_type": "code",
   "execution_count": 148,
   "metadata": {
    "scrolled": false
   },
   "outputs": [
    {
     "name": "stdout",
     "output_type": "stream",
     "text": [
      "Accuracy of Model: 0.937093275488\n",
      "The number of false positives was: 12\n",
      "The percentage of false positives was: 0.0441176470588\n",
      "The number of false negatives was: 17\n",
      "The percentage of false negatives was: 0.0899470899471\n"
     ]
    }
   ],
   "source": [
    "from sklearn.linear_model import SGDClassifier\n",
    "sgd = SGDClassifier(random_state = 42, n_iter = 500)\n",
    "#drop spam column\n",
    "dfXData = dfTrain.drop('is_spam', axis = 1)\n",
    "yData = dfTrain.is_spam.values\n",
    "sgd.fit(dfXData, yData)\n",
    "\n",
    "spam_predict = sgd.predict(dfTest.drop('is_spam', axis = 1))\n",
    "printResults(dfTest, spam_predict)"
   ]
  },
  {
   "cell_type": "markdown",
   "metadata": {},
   "source": [
    "<H2>SGD with Probablities</H2>\n",
    "\n",
    "We quickly try SGD using probabilites to see if that can help.  We reduce the number of false postives slighly, but are still at 3.3% and we are letting over 21% of spam through."
   ]
  },
  {
   "cell_type": "code",
   "execution_count": 149,
   "metadata": {},
   "outputs": [
    {
     "name": "stdout",
     "output_type": "stream",
     "text": [
      "The predicted probablity of the false positives are: \r\n",
      " [0.998402 0.963199 0.899831 0.999832 0.780057 0.928006 0.760047 0.990048\n",
      " 0.999950]\n",
      "Accuracy of Model: 0.893709327549\n",
      "The number of false positives was: 9\n",
      "The percentage of false positives was: 0.0330882352941\n",
      "The number of false negatives was: 40\n",
      "The percentage of false negatives was: 0.21164021164\n"
     ]
    }
   ],
   "source": [
    "sgd = SGDClassifier(random_state = 42, n_iter = 500, loss = 'log')\n",
    "sgd.fit(dfXData, yData)\n",
    "probs = sgd.predict_proba(dfTest.drop('is_spam', axis = 1))\n",
    "spam_predict = probs[:,1] >0.75\n",
    "\n",
    "print 'The predicted probablity of the false positives are: \\r\\n ' + \\\n",
    "        str(probs[dfTest[(dfTest['is_spam'] == 0) & (dfTest['is_spam'] != spam_predict)].index.values][:,1])\n",
    "\n",
    "\n",
    "\n",
    "printResults(dfTest, spam_predict)"
   ]
  },
  {
   "cell_type": "markdown",
   "metadata": {},
   "source": [
    "<H2>Cross-Fold Validation</H2>\n",
    "\n",
    "Let's try doing a cross-fold validation to see how our model is doing and see if there is an issue uncovered by that.\n",
    "\n",
    "As we see that scores are about the same for train and test, it is unlikely we are overfitting to any substantive degree."
   ]
  },
  {
   "cell_type": "code",
   "execution_count": 150,
   "metadata": {},
   "outputs": [
    {
     "name": "stdout",
     "output_type": "stream",
     "text": [
      "0.9244496210585256\n",
      "0.9289251273046553\n"
     ]
    }
   ],
   "source": [
    "from sklearn.model_selection import cross_validate\n",
    "cvScores = cross_validate(sgd, dfXData, yData, cv=10)\n",
    "print cvScores['test_score'].mean()\n",
    "print cvScores['train_score'].mean()\n"
   ]
  },
  {
   "cell_type": "markdown",
   "metadata": {},
   "source": [
    "<H2>SVM</H2>\n",
    "\n",
    "Let's try a different classifier, Support Vector Classifier (SVC).  Using this we get marginally less false positives, but false negatives were down to under 8%, so maybe we are onto something with this classifier."
   ]
  },
  {
   "cell_type": "code",
   "execution_count": 151,
   "metadata": {
    "scrolled": true
   },
   "outputs": [
    {
     "name": "stdout",
     "output_type": "stream",
     "text": [
      "Accuracy of Model: 0.943600867679\n",
      "The number of false positives was: 11\n",
      "The percentage of false positives was: 0.0404411764706\n",
      "The number of false negatives was: 15\n",
      "The percentage of false negatives was: 0.0793650793651\n"
     ]
    }
   ],
   "source": [
    "from sklearn import svm\n",
    "dfXData = dfTrain.drop('is_spam', axis = 1)\n",
    "yData = dfTrain.is_spam.values\n",
    "clf = svm.SVC()\n",
    "clf.fit(dfXData, yData)  \n",
    "spam_predict = clf.predict(dfTest.drop('is_spam', axis = 1))\n",
    "\n",
    "printResults(dfTest, spam_predict)"
   ]
  },
  {
   "cell_type": "markdown",
   "metadata": {},
   "source": [
    "<H2>SVC Using Probabilities</H2>\n",
    "\n",
    "Using a 75% threshold, we are now down to 2.2% false positives and we are under 15% false negatives, so we are definitely improving here."
   ]
  },
  {
   "cell_type": "code",
   "execution_count": 152,
   "metadata": {},
   "outputs": [
    {
     "name": "stdout",
     "output_type": "stream",
     "text": [
      "The predicted probablity of the false positives are: \r\n",
      " [0.999999 0.591521 0.794395 0.989127 0.538141 0.885841 0.590634 0.580456\n",
      " 0.960597 0.522768 0.928144]\n",
      "Accuracy of Model: 0.926247288503\n",
      "The number of false positives was: 6\n",
      "The percentage of false positives was: 0.0220588235294\n",
      "The number of false negatives was: 28\n",
      "The percentage of false negatives was: 0.148148148148\n"
     ]
    }
   ],
   "source": [
    "clf = svm.SVC(probability=True)\n",
    "clf.fit(dfXData, yData) \n",
    "probs = clf.predict_proba(dfTest.drop('is_spam', axis = 1))\n",
    "\n",
    "print 'The predicted probablity of the false positives are: \\r\\n ' + \\\n",
    "        str(probs[dfTest[(dfTest['is_spam'] == 0) & (dfTest['is_spam'] != spam_predict)].index.values][:,1])\n",
    "\n",
    "spam_predict = probs[:,1] >0.75\n",
    "\n",
    "printResults(dfTest, spam_predict)"
   ]
  },
  {
   "cell_type": "markdown",
   "metadata": {},
   "source": [
    "<H2>Tune HyperParameters</H2>\n",
    "\n",
    "Since we have improved, lets run the GridSearchCV method with a few parameters to test for to see if we can find a more optimum set to use for the SVC classifier.  This takes quite some time even with setting the n_jobs option...so if running this step be patient."
   ]
  },
  {
   "cell_type": "code",
   "execution_count": 153,
   "metadata": {},
   "outputs": [],
   "source": [
    "from sklearn.model_selection import GridSearchCV\n",
    "tuned_parameters = [{'kernel': ['rbf'], 'gamma': [1e-3, 1e-4],\n",
    "                     'C': [1, 10, 100, 1000]},\n",
    "                    {'kernel': ['linear'], 'C': [1, 10, 100, 1000]}]\n",
    "clf = GridSearchCV(svm.SVC(), tuned_parameters, cv=5, n_jobs=6)                        \n",
    "\n",
    "clf.fit(dfXData, yData);"
   ]
  },
  {
   "cell_type": "markdown",
   "metadata": {},
   "source": [
    "<H2>Tuning Results</H2>\n",
    "\n",
    "Printing the tuning results, shows us that the best parameters are a Kernel of RBF (Radial Basis Function) a penalty parameter (C) of 1000, and a gamma value of .001."
   ]
  },
  {
   "cell_type": "code",
   "execution_count": 154,
   "metadata": {},
   "outputs": [
    {
     "name": "stdout",
     "output_type": "stream",
     "text": [
      "0.901 (+/-0.013) for {'kernel': 'rbf', 'C': 1, 'gamma': 0.001}\n",
      "0.799 (+/-0.011) for {'kernel': 'rbf', 'C': 1, 'gamma': 0.0001}\n",
      "0.925 (+/-0.010) for {'kernel': 'rbf', 'C': 10, 'gamma': 0.001}\n",
      "0.898 (+/-0.013) for {'kernel': 'rbf', 'C': 10, 'gamma': 0.0001}\n",
      "0.931 (+/-0.006) for {'kernel': 'rbf', 'C': 100, 'gamma': 0.001}\n",
      "0.921 (+/-0.014) for {'kernel': 'rbf', 'C': 100, 'gamma': 0.0001}\n",
      "0.932 (+/-0.011) for {'kernel': 'rbf', 'C': 1000, 'gamma': 0.001}\n",
      "0.929 (+/-0.013) for {'kernel': 'rbf', 'C': 1000, 'gamma': 0.0001}\n",
      "0.928 (+/-0.011) for {'kernel': 'linear', 'C': 1}\n",
      "0.927 (+/-0.013) for {'kernel': 'linear', 'C': 10}\n",
      "0.929 (+/-0.013) for {'kernel': 'linear', 'C': 100}\n",
      "0.930 (+/-0.012) for {'kernel': 'linear', 'C': 1000}\n"
     ]
    }
   ],
   "source": [
    "means = clf.cv_results_['mean_test_score']\n",
    "stds = clf.cv_results_['std_test_score']\n",
    "for mean, std, params in zip(means, stds, clf.cv_results_['params']):\n",
    "    print(\"%0.3f (+/-%0.03f) for %r\"  % (mean, std * 2, params))"
   ]
  },
  {
   "cell_type": "markdown",
   "metadata": {},
   "source": [
    "<H2>Good Results!</H2>\n",
    "\n",
    "Using the tuned hyper parameters and a standard greater than even probability we are down to under 3% false positive and just above 8% false negative.\n",
    "\n",
    "Looking at the probablities of the false positives, we see that a value of 70% might be optimal for elminating as many false postives as possible without unduly letting too much spamm through.  Doing so gives us a false positive rate of only 1.1% and false negative at under 15%."
   ]
  },
  {
   "cell_type": "code",
   "execution_count": 155,
   "metadata": {},
   "outputs": [
    {
     "name": "stdout",
     "output_type": "stream",
     "text": [
      "Accuracy of Model: 0.947939262473\n",
      "The number of false positives was: 8\n",
      "The percentage of false positives was: 0.0294117647059\n",
      "The number of false negatives was: 16\n",
      "The percentage of false negatives was: 0.0846560846561\n",
      "The predicted probablity of the false positives are: \r\n",
      " [0.999999 0.632444 0.926868 0.642960 0.597745 0.561734 0.880129 0.633161]\n",
      "Accuracy of Model: 0.932754880694\n",
      "The number of false positives was: 3\n",
      "The percentage of false positives was: 0.0110294117647\n",
      "The number of false negatives was: 28\n",
      "The percentage of false negatives was: 0.148148148148\n",
      "The predicted probablity of the false positives are: \r\n",
      " [0.999999 0.926868 0.880129]\n"
     ]
    }
   ],
   "source": [
    "clf = svm.SVC(probability=True, kernel = 'rbf', C = 1000, gamma=.001)\n",
    "clf.fit(dfXData, yData) \n",
    "probs = clf.predict_proba(dfTest.drop('is_spam', axis = 1))\n",
    "\n",
    "spam_predict = probs[:,1] >0.5\n",
    "printResults(dfTest, spam_predict)\n",
    "print 'The predicted probablity of the false positives are: \\r\\n ' + \\\n",
    "        str(probs[dfTest[(dfTest['is_spam'] == 0) & (dfTest['is_spam'] != spam_predict)].index.values][:,1])\n",
    "\n",
    "spam_predict = probs[:,1] >0.70\n",
    "printResults(dfTest, spam_predict)\n",
    "print 'The predicted probablity of the false positives are: \\r\\n ' + \\\n",
    "        str(probs[dfTest[(dfTest['is_spam'] == 0) & (dfTest['is_spam'] != spam_predict)].index.values][:,1])\n"
   ]
  },
  {
   "cell_type": "markdown",
   "metadata": {},
   "source": [
    "<H2>Retest on DevTest data</H2>\n",
    "\n",
    "Run the same test on the DevTest set of data that was set aside long ago.  On this set of data, the false postives were uner 1%!  False negatives were a bit higher at about 17%, but overall it is validating that our model works fairly well."
   ]
  },
  {
   "cell_type": "code",
   "execution_count": 156,
   "metadata": {},
   "outputs": [
    {
     "name": "stdout",
     "output_type": "stream",
     "text": [
      "Accuracy of Model: 0.945652173913\n",
      "The number of false positives was: 4\n",
      "The percentage of false positives was: 0.0151515151515\n",
      "The number of false negatives was: 21\n",
      "The percentage of false negatives was: 0.107142857143\n",
      "Accuracy of Model: 0.919565217391\n",
      "The number of false positives was: 2\n",
      "The percentage of false positives was: 0.00757575757576\n",
      "The number of false negatives was: 35\n",
      "The percentage of false negatives was: 0.178571428571\n"
     ]
    }
   ],
   "source": [
    "dfDevtest = getScaledData(dfDevtest)\n",
    "probs = clf.predict_proba(dfDevtest.drop('is_spam', axis = 1))\n",
    "\n",
    "\n",
    "spam_predict = probs[:,1] >0.5\n",
    "printResults(dfDevtest, spam_predict)\n",
    "\n",
    "spam_predict = probs[:,1] >0.70\n",
    "printResults(dfDevtest, spam_predict)"
   ]
  }
 ],
 "metadata": {
  "kernelspec": {
   "display_name": "Python 2",
   "language": "python",
   "name": "python2"
  },
  "language_info": {
   "codemirror_mode": {
    "name": "ipython",
    "version": 2
   },
   "file_extension": ".py",
   "mimetype": "text/x-python",
   "name": "python",
   "nbconvert_exporter": "python",
   "pygments_lexer": "ipython2",
   "version": "2.7.15"
  }
 },
 "nbformat": 4,
 "nbformat_minor": 2
}
